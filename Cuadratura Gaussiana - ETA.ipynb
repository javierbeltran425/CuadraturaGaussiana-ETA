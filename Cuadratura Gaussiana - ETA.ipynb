{
 "cells": [
  {
   "cell_type": "markdown",
   "id": "de389659",
   "metadata": {},
   "source": [
    "<h1>\n",
    "    Cuadratura Gaussiana\n",
    "</h1>"
   ]
  },
  {
   "cell_type": "markdown",
   "id": "100fd99b",
   "metadata": {},
   "source": [
    "<h2>\n",
    "    Materia: Análisis numérico<br/>\n",
    "    Grupo: $\\eta$\n",
    "</h2>"
   ]
  },
  {
   "cell_type": "markdown",
   "id": "4c906dd0",
   "metadata": {},
   "source": [
    "<h5>\n",
    "    Integrantes:\n",
    "        <ul>\n",
    "            <li>Alexis Rafael Bolaños Mejia</li>\n",
    "            <li>Ricardo Javier Beltrán Martínez</li>\n",
    "            <li>Paola Carolina Domínguez Díaz</li>\n",
    "            <li>José Francisco Cerón Pouzeaud</li>\n",
    "        </ul>\n",
    "</h5>"
   ]
  },
  {
   "cell_type": "markdown",
   "id": "47b3a2d6",
   "metadata": {},
   "source": [
    "### Introducción: Teorema de Cuadratura Gaussiana"
   ]
  },
  {
   "cell_type": "markdown",
   "id": "ca861016",
   "metadata": {},
   "source": [
    "$$ \\int_{b}^{a}\n",
    "\\mathbf{f(x)}dx\n",
    "\\approx \\mathbf{Q(f)}= \\sum_{i=1}^{n}w_{i}f(x_{i})$$"
   ]
  },
  {
   "cell_type": "markdown",
   "id": "c5cdf90d",
   "metadata": {},
   "source": [
    "1. Definición:\n",
    "    - El método de Cuadratura Gaussiana tiene como idea fundamental la aproximación de una integral definida con respecto a una función, tomando en cuenta que se deben seleccionar nodos interpolantes. Con lo anteriormente mencionado, la cuadratura debe recibir puntos de evaluación óptimos, ya que el resultado que obtendremos será de la forma ***2n-1***,tomando en cuenta que serán distribuidos para los puntos $x_{i}$ y los coeficientes $w_{i}$\n",
    "$$ \\int_{b}^{a}\n",
    "\\mathbf{f(x)}dx\n",
    "= w_{0}f(x_{0})+w_{1}f(x_{1})+w_{2}f(x_{2})+...+w_{n}f(x_{n})$$\n",
    "\n",
    "    El método de Gauss, toma como conjunto ortogonal a los polinomios de Legrendre que son ortogonales en el intérvalo [-1,1] que están dados por:\n",
    "    $$\\mathbf{L_{n}(t)}=\\frac{1}{{2}^n*n!}\\frac{{d}^n}{{dx}^n}*{({t}^2-1)}^n$$\n",
    "    O en su forma recursiva:\n",
    "    $$\\mathbf{L_{n}(t)}=\\frac{(2k+1)*t*L_{n}(t)-k*L_{k-1}(t)}{{k+1}}$$\n",
    "    Con $$\\mathbf{L_{0}(t)}=1 , \\mathbf{L_{1}(t)}=t $$\n",
    "    \n",
    "    Tal cuadratura dará resultados muy precisos si y solo si $\\mathbf{f(x)}$ es aproximada por un polinomio dentro del rango [-1,1]. La función puede ser escrita como $\\mathbf{f(x)}=W(x)g(x)$, donde $\\mathbf{g(x)}$ tomará valores de un polinomio  aproximado y $\\mathbf{W(x)}$ es conocido.\n",
    "    $$ \\int_{b}^{a}\n",
    "\\mathbf{f(x)}dx\n",
    "= \\int_{1}^{-1}\\mathbf{W(t)}\\mathbf{g(t)}dt \\approx \\sum_{i=1}^{n}g(t_{i})w_{i}$$\n",
    "\n",
    "    Con esto, se deben hacer ajustes de variables. Debemos encontra la ecuación de la recta que pasa por los puntos **(1,b)** y **(1,a)**:\n",
    "    $$x=\\frac{b-a}{{2}}*(t+1)+a$$ Y su derivada es: $$\\frac{dx}{dt}=\\frac{b-a}{2}$$\n",
    "    Entonces podemos plantear lo siguiente:\n",
    "    $$ \\int_{b}^{a} \\mathbf{f(x)}dx=\\frac{b-a}{2}*\\int_{1}^{-1}f(\\frac{b-a}{{2}}*(t+1)+a)*dt$$\n",
    "\n",
    "    => $$ \\int_{a}^{b} \\mathbf{f(x)}dx=\\frac{b-a}{2}*\\int_{1}^{-1}f(\\frac{b-a}{{2}}*(t+1)+a)*dt = (\\frac{b-a}{2})\\sum_{i=1}^{n}w_{i}f(x(t_{i}))$$\n",
    "    Donde $t_{i}$ son las raíces del polinomio de Legendre.\n"
   ]
  },
  {
   "cell_type": "markdown",
   "id": "aecdfc3a",
   "metadata": {},
   "source": [
    "<h4>\n",
    "    Algoritmo para la Cuadratura Gaussiana\n",
    "</h4>"
   ]
  },
  {
   "cell_type": "code",
   "execution_count": 2,
   "id": "06c2cc07",
   "metadata": {},
   "outputs": [],
   "source": [
    "import numpy as np\n",
    "import matplotlib.pyplot as plt"
   ]
  },
  {
   "cell_type": "code",
   "execution_count": 3,
   "id": "d469cd27",
   "metadata": {},
   "outputs": [],
   "source": [
    "def integraCuadGauss2p(funcionx,a,b):\n",
    "    x0 = -1/np.sqrt(3)\n",
    "    x1 = -x0\n",
    "    xa = (b+a)/2 + (b-a)/2*(x0)\n",
    "    xb = (b+a)/2 + (b-a)/2*(x1)\n",
    "    area = ((b-a)/2)*(funcionx(xa) + funcionx(xb))\n",
    "    return(area)"
   ]
  },
  {
   "cell_type": "code",
   "execution_count": 4,
   "id": "c3057639",
   "metadata": {},
   "outputs": [],
   "source": [
    "# Funcion\n",
    "fx = lambda x: np.sqrt(x)*np.sin(x)"
   ]
  },
  {
   "cell_type": "code",
   "execution_count": 5,
   "id": "2eb30b1c",
   "metadata": {},
   "outputs": [],
   "source": [
    "# intervalos\n",
    "a = 1\n",
    "b = 3\n",
    "tramos = 4"
   ]
  },
  {
   "cell_type": "code",
   "execution_count": 6,
   "id": "c456c067",
   "metadata": {},
   "outputs": [],
   "source": [
    "muestras = tramos+1\n",
    "xi = np.linspace(a,b,muestras)\n",
    "area = 0\n",
    "for i in range(0,muestras-1,1):\n",
    "    deltaA = integraCuadGauss2p(fx,xi[i],xi[i+1])\n",
    "    area = area + deltaA"
   ]
  },
  {
   "cell_type": "code",
   "execution_count": 7,
   "id": "d7eba84d",
   "metadata": {},
   "outputs": [
    {
     "name": "stdout",
     "output_type": "stream",
     "text": [
      "Integral:  2.0535771900286597\n"
     ]
    }
   ],
   "source": [
    "# salida\n",
    "print('Integral: ', area)"
   ]
  },
  {
   "cell_type": "code",
   "execution_count": null,
   "id": "beb2f5e1",
   "metadata": {},
   "outputs": [],
   "source": []
  }
 ],
 "metadata": {
  "kernelspec": {
   "display_name": "Python 3",
   "language": "python",
   "name": "python3"
  },
  "language_info": {
   "codemirror_mode": {
    "name": "ipython",
    "version": 3
   },
   "file_extension": ".py",
   "mimetype": "text/x-python",
   "name": "python",
   "nbconvert_exporter": "python",
   "pygments_lexer": "ipython3",
   "version": "3.9.5"
  }
 },
 "nbformat": 4,
 "nbformat_minor": 5
}
