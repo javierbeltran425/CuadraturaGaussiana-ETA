{
 "cells": [
  {
   "cell_type": "markdown",
   "id": "de389659",
   "metadata": {},
   "source": [
    "<h1>\n",
    "    Cuadratura Gaussiana\n",
    "</h1>"
   ]
  },
  {
   "cell_type": "markdown",
   "id": "100fd99b",
   "metadata": {},
   "source": [
    "<h2>\n",
    "    Materia: Análisis numérico<br/>\n",
    "    Grupo: $\\eta$\n",
    "</h2>"
   ]
  },
  {
   "cell_type": "markdown",
   "id": "4c906dd0",
   "metadata": {},
   "source": [
    "<h5>\n",
    "    Integrantes:\n",
    "        <ul>\n",
    "            <li>Alexis Rafael Bolaños Mejia</li>\n",
    "            <li>Ricardo Javier Beltrán Martínez</li>\n",
    "            <li>Paola Carolina Domínguez Díaz</li>\n",
    "            <li>José Francisco Cerón Pouzeaud</li>\n",
    "        </ul>\n",
    "</h5>"
   ]
  },
  {
   "cell_type": "markdown",
   "id": "47b3a2d6",
   "metadata": {},
   "source": [
    "### Introducción: Teorema de Cuadratura Gaussiana"
   ]
  },
  {
   "cell_type": "markdown",
   "id": "ca861016",
   "metadata": {},
   "source": [
    "$$ \\int_{a}^{b}\n",
    "\\mathbf{f(x)}dx\n",
    "\\approx \\mathbf{Q(f)}= \\sum_{i=1}^{n}w_{i}f(x_{i})$$"
   ]
  },
  {
   "cell_type": "markdown",
   "id": "c5cdf90d",
   "metadata": {},
   "source": [
    "1. Definición:\n",
    "    - El método de Cuadratura Gaussiana tiene como idea fundamental la aproximación de una integral definida con respecto a una función, tomando en cuenta que se deben seleccionar nodos interpolantes. Con lo anteriormente mencionado, la cuadratura debe recibir puntos de evaluación óptimos, ya que el resultado que obtendremos será de la forma ***2n-1***,tomando en cuenta que serán distribuidos para los puntos $x_{i}$ y los coeficientes $w_{i}$\n",
    "$$ \\int_{a}^{b}\n",
    "\\mathbf{f(x)}dx\n",
    "= w_{0}f(x_{0})+w_{1}f(x_{1})+w_{2}f(x_{2})+...+w_{n}f(x_{n})$$\n",
    "\n",
    "    El método de Gauss, toma como conjunto ortogonal a los polinomios de Legrendre que son ortogonales en el intérvalo [-1,1] que están dados por:\n",
    "    $$\\mathbf{L_{n}(t)}=\\frac{1}{{2}^n*n!}\\frac{{d}^n}{{dx}^n}*{({t}^2-1)}^n$$\n",
    "    O en su forma recursiva:\n",
    "    $$\\mathbf{L_{n}(t)}=\\frac{(2k+1)*t*L_{n}(t)-k*L_{k-1}(t)}{{k+1}}$$\n",
    "    Con $$\\mathbf{L_{0}(t)}=1 , \\mathbf{L_{1}(t)}=t $$\n",
    "    \n",
    "    Tal cuadratura dará resultados muy precisos si y solo si $\\mathbf{f(x)}$ es aproximada por un polinomio dentro del rango [-1,1]. La función puede ser escrita como $\\mathbf{f(x)}=W(x)g(x)$, donde $\\mathbf{g(x)}$ tomará valores de un polinomio  aproximado y $\\mathbf{W(x)}$ es conocido.\n",
    "    $$ \\int_{a}^{b}\n",
    "\\mathbf{f(x)}dx\n",
    "= \\int_{1}^{-1}\\mathbf{W(t)}\\mathbf{g(t)}dt \\approx \\sum_{i=1}^{n}g(t_{i})w_{i}$$\n",
    "\n",
    "    Con esto, se deben hacer ajustes de variables. Debemos encontra la ecuación de la recta que pasa por los puntos **(1,b)** y **(1,a)**:\n",
    "    $$x=\\frac{b-a}{{2}}*(t+1)+a$$ Y su derivada es: $$\\frac{dx}{dt}=\\frac{b-a}{2}$$\n",
    "    Entonces podemos plantear lo siguiente:\n",
    "    $$ \\int_{a}^{b} \\mathbf{f(x)}dx=\\frac{b-a}{2}*\\int_{1}^{-1}f(\\frac{b-a}{{2}}*(t+1)+a)*dt$$\n",
    "\n",
    "    => $$ \\int_{a}^{b} \\mathbf{f(x)}dx=\\frac{b-a}{2}*\\int_{1}^{-1}f(\\frac{b-a}{{2}}*(t+1)+a)*dt = (\\frac{b-a}{2})\\sum_{i=1}^{n}w_{i}f(x(t_{i}))$$\n",
    "    \n",
    "    Donde $t_{i}$ son las raíces del polinomio de Legendre.\n",
    "   "
   ]
  },
  {
   "cell_type": "markdown",
   "id": "04d27dba",
   "metadata": {},
   "source": [
    "2. Error:\n",
    "   - Los nodos elegidos para realizar el teorema deben reducir en lo posible el error cometido al efectuar la aproximación. El error está definido por la siguiente ecuación:\n",
    "   $$\\mathbf{E_{n}}(f(x))=\\int_{a}^{b} (\\mathbf{f(x)-P(x)})dx =\\int_{a}^{b} \\mathbf{z_{n}(x)}dx\\frac{f_{(n)}(\\xi)}{{n!}}dx$$\n",
    "   donde $\\xi$ es un número dentro del intérvalo de [a,b] y  $\\mathbf{z_{n}(x)}={(x-x_{1})}{(x-x_{2})}...{(x-x_{n})}$ es el polinomio fundamental de interpolación. Si $\\mathbf{f(x)}$ es un polinomio de grado menor que n-1 entonces el error será cero por utilizar **n** nodos y por lo tanto el grado de precisión será ${n-1}$.\n"
   ]
  },
  {
   "cell_type": "markdown",
   "id": "7e5976f5",
   "metadata": {},
   "source": [
    "3. Eficiencia del método:\n",
    "   - La fórmula de la cuadratura tiene grado de precisión ${d}$ si es exacta para todo polinomio de grado menor o igual que  ${d}$. Una fórmula de tipo interpolatorio con **n** nodos posee al menos grado de precisión ${n-1}$. \n",
    "       Esto puede probarse mediante la teoría de polinomios ortogonales, que no puede contruirse una fórmula de tipo interpolatorio con **n** nodos y grado de precisión ${2n-1}$ y es asi como se prueba la eficiencia del metodo ya que las formulas de la cuadratura gaussinas son las que alcanzan dicho grado de precisión óptimo."
   ]
  },
  {
   "cell_type": "markdown",
   "id": "a2d07b5f",
   "metadata": {},
   "source": [
    "4. Ventajas y desventajas:\n",
    "    - El teorema de Cuadratura Gaussiana brunda mayor precisión que los métodos de Trapecio y Simpson, aunque en ocasiones es necesario utilizar un polinomio de mayor grado para alcanzarla.\n",
    "    - No es posible aplicarlo en casos discretos.\n",
    "    - Es necesario conocer las raíces y los pesos para los polinomios interpolantes de Lagrange.\n",
    "    - Usar un polinomio de mayor grado no garantizará una mejor precisión. No es posible estimar el error sin conocer el resultado exacto."
   ]
  },
  {
   "cell_type": "markdown",
   "id": "0b314d6d",
   "metadata": {},
   "source": [
    "<h3>\n",
    "    Ejemplo de cuadratura Gaussiana para 2 puntos\n",
    "</h3>\n",
    "\n",
    "$$\n",
    "I=\\int_{0}^3 \\frac{e^xsin(x)}{1+x^2}dx\n",
    "$$\n",
    "\n",
    "$$\n",
    "z=\\frac{2x-(a+b)}{b-a}=\\frac{2x-(0+3)}{3-0}=\\frac{2x-3}{3}\n",
    "$$\n",
    "\n",
    "Luego cambiando la variable y el diferencial:\n",
    "\n",
    "$$\n",
    "x=\\frac{3-0}{2}z+\\frac{0+3}{2}=\\frac{3}{2}z+\\frac{3}{2}\n",
    "$$\n",
    "\n",
    "$$\n",
    "dx=\\frac{b-a}{2}dz=\\frac{3-0}{2}dz=\\frac{3}{2}dz\n",
    "$$\n",
    "\n",
    "Aplicando en la formula:\n",
    "\n",
    "$$\n",
    "I=\\int_{0}^3 \\frac{e^xsin(x)}{1+x^2}dx=\\frac{3}{2}\\int_{-1}^1f(\\frac{3}{2}z+\\frac{3}{2})dz\n",
    "$$\n",
    "\n",
    "$$\n",
    "I=\\frac{3}{2}\\sum_{i=1}^{n} w_{i}f(\\frac{3}{2}z_i+\\frac{3}{2})\n",
    "$$\n",
    "\n",
    "$Puntos: 2$\n",
    "\n",
    "$w_1=w_2=1.0$\n",
    "\n",
    "$-z_1=z_2= 0.577350269$\n",
    "\n",
    "\n",
    "\n",
    "Evaluando los coeficientes $z_i$\n",
    "$$\n",
    "f(x)=\\frac{e^xsin(x)}{1+x**2}\n",
    "$$\n",
    "\n",
    "$$\n",
    "f(\\frac{3}{2}z_i+\\frac{3}{2})=\\frac{e^(\\frac{3}{2}z_i+\\frac{3}{2})sin(\\frac{3}{2}z_i+\\frac{3}{2})}{1+(\\frac{3}{2}z_i+\\frac{3}{2})^2}\n",
    "$$\n",
    "\n",
    "$$\n",
    "f(\\frac{3}{3}z_1+\\frac{3}{2})=f(\\frac{3}{2}(-0.5773502669)+\\frac{3}{2})=0.796501031\n",
    "$$\n",
    "\n",
    "$$\n",
    "f(\\frac{3}{3}z_2+\\frac{3}{2})=f(\\frac{3}{2}(0.5773502669)+\\frac{3}{2})=1.130596636\n",
    "$$\n",
    "\n",
    "Reemplazando en la formula:\n",
    "\n",
    "$$\n",
    "I=\\frac{3}{2}\\sum_{i=1}^{2}w_if(\\frac{3}{2}z_i+\\frac{3}{2})=\\frac{3}{2}[w_if(\\frac{3}{2}z_1+\\frac{3}{2})+f(\\frac{3}{2}z_2+\\frac{3}{2})]\n",
    "$$\n",
    "\n",
    "$$\n",
    "I=\\frac{3}{2}[(1.0)(0.796501031)+(1.0)(1.130596636)]\n",
    "$$\n",
    "\n",
    "$$\n",
    "I=2.890646501\n",
    "$$"
   ]
  },
  {
   "cell_type": "markdown",
   "id": "5d86a839",
   "metadata": {},
   "source": [
    "<h3>\n",
    "Ejemplo de cuadratura Gaussiana para 3 puntos\n",
    "</h3>\n",
    "\n",
    "Utilizando los coeficientes de cuadratura de Gauss para tres puntos:\n",
    "\n",
    "$Puntos: 3$\n",
    "\n",
    "$w_2=0.888888888$\n",
    "\n",
    "$w_1=w_3=0.555555555$\n",
    "\n",
    "$-z_1=z_3=0.774593669$\n",
    "\n",
    "$z_2=0.0$\n",
    "\n",
    "Evaluando los coeficientes $z_i$:\n",
    "$$\n",
    "f(\\frac{3}{2}z_1+\\frac{3}{2})=f(\\frac{3}{2}(-0.774593669)+\\frac{3}{2})=0.417427370\n",
    "$$\n",
    "\n",
    "$$\n",
    "f(\\frac{3}{2}z_2+\\frac{3}{2})=f(\\frac{3}{2}(0.0)+\\frac{3}{2})=1.375526886\n",
    "$$\n",
    "\n",
    "$$\n",
    "f(\\frac{3}{2}z_3+\\frac{3}{2})=f(\\frac{3}{2}(0.774593669)+\\frac{3}{2})=0.817550554\n",
    "$$\n",
    "\n",
    "Reemplazando en la formula:\n",
    "\n",
    "$$\n",
    "I=\\frac{3}{2}\\sum_{i=1}^{3}w_if(\\frac{3}{2}z_i+\\frac{3}{2})=\\frac{3}{2}[w_1f(\\frac{3}{2}z_1+\\frac{3}{2})+w_2f(\\frac{3}{2}z_2+\\frac{3}{2})+w_3f(\\frac{3}{2}z_3+\\frac{3}{2})]\n",
    "$$\n",
    "\n",
    "$$\n",
    "I=\\frac{3}{2}[(0.555555555)(0.417427370)+(0.8888888)(1.375526886)+(0.555555555)(0.817550554)]\n",
    "$$\n",
    "\n",
    "$$\n",
    "I=2.863184115\n",
    "$$"
   ]
  },
  {
   "cell_type": "markdown",
   "id": "0c2e42a9",
   "metadata": {},
   "source": [
    "<h3>\n",
    "    Ejemplo de cuadratura Gaussiana para 4 puntos\n",
    "</h3>\n",
    "\n",
    "Utilizando los coeficientes de cuadratura de Gauss para cuatro puntos:\n",
    "\n",
    "$Puntos: 4$\n",
    "\n",
    "$w_i: w_1=w_4=0.347854845$\n",
    "\n",
    "$w_2=w_3=0.652451155$\n",
    "\n",
    "$-z_1=z_4=0.861136312$\n",
    "\n",
    "$-z_2=z_3=0.339981044$\n",
    "\n",
    "Evaluando los coeficientes $z_i$:\n",
    "\n",
    "$$\n",
    "f(\\frac{3}{2}z_1+\\frac{3}{2})=f(\\frac{3}{2}(-0.861136312)+\\frac{3}{2})=0.244090630\n",
    "$$\n",
    "\n",
    "$$\n",
    "f(\\frac{3}{2}z_2+\\frac{3}{2})=f(\\frac{3}{2}(-0.339981044)+\\frac{3}{2})=1.136298128\n",
    "$$\n",
    "\n",
    "$$\n",
    "f(\\frac{3}{2}z_3+\\frac{3}{2})=f(\\frac{3}{2}(0.339981044)+\\frac{3}{2})=1.340257031\n",
    "$$\n",
    "\n",
    "$$\n",
    "f(\\frac{3}{2}z_4+\\frac{3}{2})=f(\\frac{3}{2}(0.861136312)+\\frac{3}{2})=0.635749619\n",
    "$$\n",
    "\n",
    "Reemplazando en la formula:\n",
    "\n",
    "$$\n",
    "I=\\frac{3}{2}\\sum_{j=1}^{4} w_{i}f(\\frac{3}{2}z_{i}+\\frac{3}{2})\n",
    "$$\n",
    "\n",
    "$$\n",
    "I=\\frac{3}{2}[w_{1}f(\\frac{3}{2}z_{1}+\\frac{3}{2})+w_{2}f(\\frac{3}{2}z_{2}+\\frac{3}{2})+w_{3}f(\\frac{3}{2}z_{3}+\\frac{3}{2})+w_{4}f(\\frac{3}{2}z_{4}+\\frac{3}{2})]\n",
    "$$\n",
    "\n",
    "$$\n",
    "I=\\frac{3}{2}[(0.347854845)(0.244090630)+(0.652451155)(1.136298128)+(0.652451155)(1.340257031)+(0.347854845)(0.635749619)]\n",
    "$$\n",
    "\n",
    "$$\n",
    "I=2.882831951\n",
    "$$"
   ]
  },
  {
   "cell_type": "markdown",
   "id": "aecdfc3a",
   "metadata": {},
   "source": [
    "<h4>\n",
    "    Algoritmo para la Cuadratura Gaussiana\n",
    "</h4>"
   ]
  },
  {
   "cell_type": "code",
   "execution_count": 2,
   "id": "06c2cc07",
   "metadata": {},
   "outputs": [],
   "source": [
    "import numpy as np\n",
    "import matplotlib.pyplot as plt"
   ]
  },
  {
   "cell_type": "code",
   "execution_count": 3,
   "id": "d469cd27",
   "metadata": {},
   "outputs": [],
   "source": [
    "def integraCuadGauss2p(funcionx,a,b):\n",
    "    x0 = -1/np.sqrt(3)\n",
    "    x1 = -x0\n",
    "    xa = (b+a)/2 + (b-a)/2*(x0)\n",
    "    xb = (b+a)/2 + (b-a)/2*(x1)\n",
    "    area = ((b-a)/2)*(funcionx(xa) + funcionx(xb))\n",
    "    return(area)"
   ]
  },
  {
   "cell_type": "code",
   "execution_count": 4,
   "id": "c3057639",
   "metadata": {},
   "outputs": [],
   "source": [
    "# Funcion\n",
    "fx = lambda x: np.sqrt(x)*np.sin(x)"
   ]
  },
  {
   "cell_type": "code",
   "execution_count": 5,
   "id": "2eb30b1c",
   "metadata": {},
   "outputs": [],
   "source": [
    "# intervalos\n",
    "a = 1\n",
    "b = 3\n",
    "tramos = 4"
   ]
  },
  {
   "cell_type": "code",
   "execution_count": 6,
   "id": "c456c067",
   "metadata": {},
   "outputs": [],
   "source": [
    "muestras = tramos+1\n",
    "xi = np.linspace(a,b,muestras)\n",
    "area = 0\n",
    "for i in range(0,muestras-1,1):\n",
    "    deltaA = integraCuadGauss2p(fx,xi[i],xi[i+1])\n",
    "    area = area + deltaA"
   ]
  },
  {
   "cell_type": "code",
   "execution_count": 7,
   "id": "d7eba84d",
   "metadata": {},
   "outputs": [
    {
     "name": "stdout",
     "output_type": "stream",
     "text": [
      "Integral:  2.0535771900286597\n"
     ]
    }
   ],
   "source": [
    "# salida\n",
    "print('Integral: ', area)"
   ]
  },
  {
   "cell_type": "code",
   "execution_count": null,
   "id": "beb2f5e1",
   "metadata": {},
   "outputs": [],
   "source": []
  }
 ],
 "metadata": {
  "kernelspec": {
   "display_name": "Python 3",
   "language": "python",
   "name": "python3"
  },
  "language_info": {
   "codemirror_mode": {
    "name": "ipython",
    "version": 3
   },
   "file_extension": ".py",
   "mimetype": "text/x-python",
   "name": "python",
   "nbconvert_exporter": "python",
   "pygments_lexer": "ipython3",
   "version": "3.9.5"
  }
 },
 "nbformat": 4,
 "nbformat_minor": 5
}
