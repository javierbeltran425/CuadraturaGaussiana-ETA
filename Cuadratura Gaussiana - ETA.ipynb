{
 "cells": [
  {
   "cell_type": "markdown",
   "id": "de389659",
   "metadata": {},
   "source": [
    "<h1>\n",
    "    Cuadratura Gaussiana\n",
    "</h1>"
   ]
  },
  {
   "cell_type": "markdown",
   "id": "100fd99b",
   "metadata": {},
   "source": [
    "<h2>\n",
    "    Materia: Análisis numérico<br/>\n",
    "    Grupo: $\\eta$\n",
    "</h2>"
   ]
  },
  {
   "cell_type": "markdown",
   "id": "4c906dd0",
   "metadata": {},
   "source": [
    "<h5>\n",
    "    Integrantes:\n",
    "        <ul>\n",
    "            <li>Alexis Rafael Bolaños Mejia</li>\n",
    "            <li>Ricardo Javier Beltrán Martínez</li>\n",
    "            <li>Paola Carolina Domínguez Díaz</li>\n",
    "            <li>José Francisco Cerón Pouzeaud</li>\n",
    "        </ul>\n",
    "</h5>"
   ]
  },
  {
   "cell_type": "code",
   "execution_count": null,
   "id": "ce3acc97",
   "metadata": {},
   "outputs": [],
   "source": []
  }
 ],
 "metadata": {
  "kernelspec": {
   "display_name": "Python 3",
   "language": "python",
   "name": "python3"
  },
  "language_info": {
   "codemirror_mode": {
    "name": "ipython",
    "version": 3
   },
   "file_extension": ".py",
   "mimetype": "text/x-python",
   "name": "python",
   "nbconvert_exporter": "python",
   "pygments_lexer": "ipython3",
   "version": "3.9.5"
  }
 },
 "nbformat": 4,
 "nbformat_minor": 5
}
