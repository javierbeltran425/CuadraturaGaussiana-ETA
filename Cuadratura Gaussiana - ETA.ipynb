{
 "cells": [
  {
   "cell_type": "markdown",
   "id": "de389659",
   "metadata": {},
   "source": [
    "<h1>\n",
    "    Cuadratura Gaussiana\n",
    "</h1>"
   ]
  },
  {
   "cell_type": "markdown",
   "id": "100fd99b",
   "metadata": {},
   "source": [
    "<h2>\n",
    "    Materia: Análisis numérico<br/>\n",
    "    Grupo: $\\eta$\n",
    "</h2>"
   ]
  },
  {
   "cell_type": "markdown",
   "id": "4c906dd0",
   "metadata": {},
   "source": [
    "<h5>\n",
    "    Integrantes:\n",
    "        <ul>\n",
    "            <li>Alexis Rafael Bolaños Mejia</li>\n",
    "            <li>Ricardo Javier Beltrán Martínez</li>\n",
    "            <li>Paola Carolina Domínguez Díaz</li>\n",
    "            <li>José Francisco Cerón Pouzeaud</li>\n",
    "        </ul>\n",
    "</h5>"
   ]
  },
  {
   "cell_type": "markdown",
   "id": "aecdfc3a",
   "metadata": {},
   "source": [
    "<h4>\n",
    "    Algoritmo para la Cuadratura Gaussiana\n",
    "</h4>"
   ]
  },
  {
   "cell_type": "code",
   "execution_count": 2,
   "id": "06c2cc07",
   "metadata": {},
   "outputs": [],
   "source": [
    "import numpy as np\n",
    "import matplotlib.pyplot as plt"
   ]
  },
  {
   "cell_type": "code",
   "execution_count": 3,
   "id": "d469cd27",
   "metadata": {},
   "outputs": [],
   "source": [
    "def integraCuadGauss2p(funcionx,a,b):\n",
    "    x0 = -1/np.sqrt(3)\n",
    "    x1 = -x0\n",
    "    xa = (b+a)/2 + (b-a)/2*(x0)\n",
    "    xb = (b+a)/2 + (b-a)/2*(x1)\n",
    "    area = ((b-a)/2)*(funcionx(xa) + funcionx(xb))\n",
    "    return(area)"
   ]
  },
  {
   "cell_type": "code",
   "execution_count": 4,
   "id": "c3057639",
   "metadata": {},
   "outputs": [],
   "source": [
    "# Funcion\n",
    "fx = lambda x: np.sqrt(x)*np.sin(x)"
   ]
  },
  {
   "cell_type": "code",
   "execution_count": 5,
   "id": "2eb30b1c",
   "metadata": {},
   "outputs": [],
   "source": [
    "# intervalos\n",
    "a = 1\n",
    "b = 3\n",
    "tramos = 4"
   ]
  },
  {
   "cell_type": "code",
   "execution_count": 6,
   "id": "c456c067",
   "metadata": {},
   "outputs": [],
   "source": [
    "muestras = tramos+1\n",
    "xi = np.linspace(a,b,muestras)\n",
    "area = 0\n",
    "for i in range(0,muestras-1,1):\n",
    "    deltaA = integraCuadGauss2p(fx,xi[i],xi[i+1])\n",
    "    area = area + deltaA"
   ]
  },
  {
   "cell_type": "code",
   "execution_count": 7,
   "id": "d7eba84d",
   "metadata": {},
   "outputs": [
    {
     "name": "stdout",
     "output_type": "stream",
     "text": [
      "Integral:  2.0535771900286597\n"
     ]
    }
   ],
   "source": [
    "# salida\n",
    "print('Integral: ', area)"
   ]
  },
  {
   "cell_type": "code",
   "execution_count": null,
   "id": "beb2f5e1",
   "metadata": {},
   "outputs": [],
   "source": []
  }
 ],
 "metadata": {
  "kernelspec": {
   "display_name": "Python 3",
   "language": "python",
   "name": "python3"
  },
  "language_info": {
   "codemirror_mode": {
    "name": "ipython",
    "version": 3
   },
   "file_extension": ".py",
   "mimetype": "text/x-python",
   "name": "python",
   "nbconvert_exporter": "python",
   "pygments_lexer": "ipython3",
   "version": "3.9.5"
  }
 },
 "nbformat": 4,
 "nbformat_minor": 5
}
