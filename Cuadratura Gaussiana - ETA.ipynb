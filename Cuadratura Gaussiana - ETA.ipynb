{
 "cells": [
  {
   "cell_type": "markdown",
   "id": "de389659",
   "metadata": {},
   "source": [
    "<h1>\n",
    "    Cuadratura Gaussiana\n",
    "</h1>"
   ]
  },
  {
   "cell_type": "markdown",
   "id": "100fd99b",
   "metadata": {},
   "source": [
    "<h2>\n",
    "    Materia: Análisis numérico<br/>\n",
    "    Grupo: $\\eta$\n",
    "</h2>"
   ]
  },
  {
   "cell_type": "markdown",
   "id": "4c906dd0",
   "metadata": {},
   "source": [
    "<h5>\n",
    "    Integrantes:\n",
    "        <ul>\n",
    "            <li>Alexis Rafael Bolaños Mejia</li>\n",
    "            <li>Ricardo Javier Beltrán Martínez</li>\n",
    "            <li>Paola Carolina Domínguez Díaz</li>\n",
    "            <li>José Francisco Cerón Pouzeaud</li>\n",
    "        </ul>\n",
    "</h5>"
   ]
  },
  {
   "cell_type": "markdown",
   "id": "da8419af",
   "metadata": {},
   "source": [
    "$$\n",
    "\\sin(-\\alpha)=-\\sin(\\alpha)\\\\\n",
    "\\arccos(x)=\\arcsin(u)\\\\\n",
    "\\log_n(n)=1\\\\\n",
    "\\tan(x) = \\frac{\\sin(x)}{\\cos(x)}\n",
    "$$"
   ]
  },
  {
   "cell_type": "markdown",
   "id": "4c070f20",
   "metadata": {},
   "source": [
    "Given : $\\pi = 3.14$ , $\\alpha = \\frac{3\\pi}{4}\\, rad$\n",
    "$$\n",
    "\\omega = 2\\pi f \\\\\n",
    "f = \\frac{c}{\\lambda}\\\\\n",
    "\\lambda_0=\\theta^2+\\delta\\\\\n",
    "\\Delta\\lambda = \\frac{1}{\\lambda^2}\n",
    "$$"
   ]
  },
  {
   "cell_type": "markdown",
   "id": "75785475",
   "metadata": {},
   "source": [
    "To insert a mathematical formula we use the dollar symbol $, as follows:\n",
    "Euler's identity: $ e^{i \\pi} + 1 = 0 $\n",
    "To isolate and center the formulas and enter in math display mode, we use 2 dollars symbol:\n",
    "$$\n",
    "...\n",
    "$$\n",
    "Euler's identity: $$ e^{i \\pi} + 1 = 0 $$"
   ]
  },
  {
   "cell_type": "code",
   "execution_count": null,
   "id": "59140da2",
   "metadata": {},
   "outputs": [],
   "source": []
  }
 ],
 "metadata": {
  "kernelspec": {
   "display_name": "Python 3",
   "language": "python",
   "name": "python3"
  },
  "language_info": {
   "codemirror_mode": {
    "name": "ipython",
    "version": 3
   },
   "file_extension": ".py",
   "mimetype": "text/x-python",
   "name": "python",
   "nbconvert_exporter": "python",
   "pygments_lexer": "ipython3",
   "version": "3.9.5"
  }
 },
 "nbformat": 4,
 "nbformat_minor": 5
}
